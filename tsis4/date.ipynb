{
 "cells": [
  {
   "cell_type": "code",
   "execution_count": 5,
   "metadata": {},
   "outputs": [
    {
     "name": "stdout",
     "output_type": "stream",
     "text": [
      "2023-02-19 12:04:52.547516\n"
     ]
    }
   ],
   "source": [
    "import datetime\n",
    "\n",
    "a = datetime.datetime.now()\n",
    "timedel = datetime.timedelta(5)\n",
    "print(a - timedel)"
   ]
  },
  {
   "cell_type": "code",
   "execution_count": 6,
   "metadata": {},
   "outputs": [
    {
     "name": "stdout",
     "output_type": "stream",
     "text": [
      "Yesterday:  02/23/23\n",
      "Today:  02/24/23\n",
      "Tomorrow:  02/25/23\n"
     ]
    }
   ],
   "source": [
    "import datetime\n",
    "\n",
    "a = datetime.datetime.now()\n",
    "timedel = datetime.timedelta(1)\n",
    "yesterday = a - timedel\n",
    "tomorrow = a + timedel\n",
    "print(\"Yesterday: \", yesterday.strftime(\"%x\"))\n",
    "print(\"Today: \", a.strftime(\"%x\"))\n",
    "print(\"Tomorrow: \", tomorrow.strftime(\"%x\"))"
   ]
  },
  {
   "cell_type": "code",
   "execution_count": 7,
   "metadata": {},
   "outputs": [
    {
     "name": "stdout",
     "output_type": "stream",
     "text": [
      "Fri Feb 24 12:05:56 2023\n"
     ]
    }
   ],
   "source": [
    "import datetime\n",
    "\n",
    "a = datetime.datetime.now()\n",
    "print(a.strftime(\"%c\"))"
   ]
  },
  {
   "cell_type": "code",
   "execution_count": 8,
   "metadata": {},
   "outputs": [
    {
     "name": "stdout",
     "output_type": "stream",
     "text": [
      "86400 seconds.\n"
     ]
    }
   ],
   "source": [
    "import datetime\n",
    "\n",
    "year = int(input('Enter a year'))\n",
    "month = int(input('Enter a month'))\n",
    "day = int(input('Enter a day'))\n",
    "#можно добавить час, минуту и секунды в формате datetime.datetime(year, month, day, hour, minute, second)\n",
    "date1 = datetime.date(year, month, day)\n",
    "year2 = int(input('Enter a second year'))\n",
    "month2 = int(input('Enter a second month'))\n",
    "day2 = int(input('Enter a second day'))\n",
    "date2 = datetime.date(year2, month2, day2)\n",
    "\n",
    "def diff(dt2, dt1):\n",
    "  timedelta = dt2 - dt1\n",
    "  return timedelta.days * 24 * 3600\n",
    "\n",
    "print(diff(date2, date1), \"seconds.\")"
   ]
  }
 ],
 "metadata": {
  "kernelspec": {
   "display_name": "Python 3",
   "language": "python",
   "name": "python3"
  },
  "language_info": {
   "codemirror_mode": {
    "name": "ipython",
    "version": 3
   },
   "file_extension": ".py",
   "mimetype": "text/x-python",
   "name": "python",
   "nbconvert_exporter": "python",
   "pygments_lexer": "ipython3",
   "version": "3.10.9"
  },
  "orig_nbformat": 4,
  "vscode": {
   "interpreter": {
    "hash": "4f7d9f99055ced365d25c4122c028ecd06913aa4ff9d4b291612d9cf1bd30867"
   }
  }
 },
 "nbformat": 4,
 "nbformat_minor": 2
}
