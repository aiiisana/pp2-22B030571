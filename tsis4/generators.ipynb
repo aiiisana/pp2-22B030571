{
 "cells": [
  {
   "cell_type": "code",
   "execution_count": 5,
   "metadata": {},
   "outputs": [
    {
     "name": "stdout",
     "output_type": "stream",
     "text": [
      "0 1 4 9 16 25 36 49 64 "
     ]
    }
   ],
   "source": [
    "import math\n",
    "\n",
    "n = int(input())\n",
    "for i in range(int(math.sqrt(n)) + 1):\n",
    "    print(i ** 2, end = \" \")"
   ]
  },
  {
   "cell_type": "code",
   "execution_count": 8,
   "metadata": {},
   "outputs": [
    {
     "name": "stdout",
     "output_type": "stream",
     "text": [
      "0, 2, 4, 6, 8\n"
     ]
    }
   ],
   "source": [
    "n = int(input())\n",
    "for i in range(n - 1):\n",
    "    if i % 2 == 0:\n",
    "        print(i, end= ', ')\n",
    "if n % 2 == 0:\n",
    "    print(n)\n",
    "else:\n",
    "    print(n - 1)     "
   ]
  },
  {
   "cell_type": "code",
   "execution_count": 9,
   "metadata": {},
   "outputs": [
    {
     "name": "stdout",
     "output_type": "stream",
     "text": [
      "0\n",
      "3\n",
      "4\n",
      "6\n",
      "8\n",
      "9\n",
      "12\n",
      "15\n"
     ]
    }
   ],
   "source": [
    "def divisible(number):\n",
    "    for i in range(number + 1):\n",
    "        if i % 3 == 0 and i % 4 == 0:\n",
    "            print(i)\n",
    "\n",
    "a = int(input())\n",
    "divisible(a)"
   ]
  },
  {
   "cell_type": "code",
   "execution_count": 18,
   "metadata": {},
   "outputs": [
    {
     "name": "stdout",
     "output_type": "stream",
     "text": [
      "4 9 "
     ]
    }
   ],
   "source": [
    "import math\n",
    "\n",
    "a = int(input())\n",
    "b = int(input())\n",
    "sqb = int(math.sqrt(b)) + 1\n",
    "for i in range(int(math.sqrt(a)) + 1, sqb):\n",
    "    print(i**2, end = \" \")"
   ]
  },
  {
   "cell_type": "code",
   "execution_count": 21,
   "metadata": {},
   "outputs": [
    {
     "name": "stdout",
     "output_type": "stream",
     "text": [
      "3\n",
      "2\n",
      "1\n",
      "0\n"
     ]
    }
   ],
   "source": [
    "a = int(input())\n",
    "while a != -1:\n",
    "    print(a)\n",
    "    a -= 1"
   ]
  }
 ],
 "metadata": {
  "kernelspec": {
   "display_name": "Python 3",
   "language": "python",
   "name": "python3"
  },
  "language_info": {
   "codemirror_mode": {
    "name": "ipython",
    "version": 3
   },
   "file_extension": ".py",
   "mimetype": "text/x-python",
   "name": "python",
   "nbconvert_exporter": "python",
   "pygments_lexer": "ipython3",
   "version": "3.11.1"
  },
  "orig_nbformat": 4,
  "vscode": {
   "interpreter": {
    "hash": "bbd74ad6daba26ba05f615fbb11bcaa0ca4fcd684416f84e7c4c8d29712895dc"
   }
  }
 },
 "nbformat": 4,
 "nbformat_minor": 2
}
