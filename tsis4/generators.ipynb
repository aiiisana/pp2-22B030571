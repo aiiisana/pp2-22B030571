{
 "cells": [
  {
   "cell_type": "code",
   "execution_count": 33,
   "metadata": {},
   "outputs": [
    {
     "name": "stdout",
     "output_type": "stream",
     "text": [
      "0 1 4 9 16 25 36 49 64 "
     ]
    }
   ],
   "source": [
    "import math\n",
    "def square(nums):\n",
    "    num = 0\n",
    "    mun = int(math.sqrt(nums))\n",
    "    while num <= mun:\n",
    "        yield num**2\n",
    "        num += 1\n",
    "n = int(input())\n",
    "for i in square(n):\n",
    "    print(i, end = ' ')"
   ]
  },
  {
   "cell_type": "code",
   "execution_count": 29,
   "metadata": {},
   "outputs": [
    {
     "name": "stdout",
     "output_type": "stream",
     "text": [
      "0, 2, 4, 6, 8, "
     ]
    }
   ],
   "source": [
    "def even(n):\n",
    "    i = 0\n",
    "    while i <= n:\n",
    "        if i % 2 == 0:\n",
    "            yield i\n",
    "        i += 1 \n",
    "x = int(input())\n",
    "for a in even(x):\n",
    "    print(a, end = ', ')"
   ]
  },
  {
   "cell_type": "code",
   "execution_count": 34,
   "metadata": {},
   "outputs": [
    {
     "name": "stdout",
     "output_type": "stream",
     "text": [
      "0 12 24 36 48 60 "
     ]
    }
   ],
   "source": [
    "def divisible(number):\n",
    "    i = 0\n",
    "    while i <= number:\n",
    "        if i % 3 == 0 and i % 4 == 0:\n",
    "            yield i\n",
    "        i += 1\n",
    "            \n",
    "a = int(input())\n",
    "for x in divisible(a):\n",
    "    print(x, end = ' ')"
   ]
  },
  {
   "cell_type": "code",
   "execution_count": 40,
   "metadata": {},
   "outputs": [
    {
     "name": "stdout",
     "output_type": "stream",
     "text": [
      "4 9 "
     ]
    }
   ],
   "source": [
    "import math\n",
    "\n",
    "def rang(x, y):\n",
    "    i = int(math.sqrt(x)) + 1\n",
    "    q = int(math.sqrt(y))\n",
    "    while i <= q:\n",
    "        yield i**2\n",
    "        i += 1\n",
    "a = int(input())\n",
    "b = int(input())\n",
    "for i in rang(a, b):\n",
    "    print(i, end = ' ')"
   ]
  },
  {
   "cell_type": "code",
   "execution_count": 48,
   "metadata": {},
   "outputs": [
    {
     "name": "stdout",
     "output_type": "stream",
     "text": [
      "8 7 6 5 4 3 2 1 0 "
     ]
    }
   ],
   "source": [
    "def minus(a):\n",
    "    while a != -1:\n",
    "        yield a\n",
    "        a -= 1\n",
    "x = int(input())\n",
    "for i in minus(x):\n",
    "    print(i, end = ' ')"
   ]
  }
 ],
 "metadata": {
  "kernelspec": {
   "display_name": "Python 3",
   "language": "python",
   "name": "python3"
  },
  "language_info": {
   "codemirror_mode": {
    "name": "ipython",
    "version": 3
   },
   "file_extension": ".py",
   "mimetype": "text/x-python",
   "name": "python",
   "nbconvert_exporter": "python",
   "pygments_lexer": "ipython3",
   "version": "3.11.1"
  },
  "orig_nbformat": 4,
  "vscode": {
   "interpreter": {
    "hash": "bbd74ad6daba26ba05f615fbb11bcaa0ca4fcd684416f84e7c4c8d29712895dc"
   }
  }
 },
 "nbformat": 4,
 "nbformat_minor": 2
}
