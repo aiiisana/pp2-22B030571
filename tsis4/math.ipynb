{
 "cells": [
  {
   "cell_type": "code",
   "execution_count": 1,
   "metadata": {},
   "outputs": [
    {
     "name": "stdout",
     "output_type": "stream",
     "text": [
      "Output degree:  0.2617993877991494\n"
     ]
    }
   ],
   "source": [
    "import math\n",
    "\n",
    "degree = int(input('Input degree: '))\n",
    "print('Output degree: ', math.radians(degree))"
   ]
  },
  {
   "cell_type": "code",
   "execution_count": 2,
   "metadata": {},
   "outputs": [
    {
     "name": "stdout",
     "output_type": "stream",
     "text": [
      "Area of the trapezoid:  27.5\n"
     ]
    }
   ],
   "source": [
    "import math \n",
    "\n",
    "height = int(input(\"Height: \"))\n",
    "base1 = int(input(\"Base, first value: \"))\n",
    "base2 = int(input(\"Base, second value: \"))\n",
    "area = (base1 + base2) * height / 2\n",
    "print(\"Area of the trapezoid: \", area)"
   ]
  },
  {
   "cell_type": "code",
   "execution_count": 3,
   "metadata": {},
   "outputs": [
    {
     "name": "stdout",
     "output_type": "stream",
     "text": [
      "625.0000000000001\n"
     ]
    }
   ],
   "source": [
    "import math\n",
    "\n",
    "num = int(input(\"Number of sides: \"))\n",
    "len = int(input(\"Length of the side: \"))\n",
    "area = (num * (len ** 2)) / (4 * math.tan(math.pi / num))\n",
    "print(area)"
   ]
  },
  {
   "cell_type": "code",
   "execution_count": 5,
   "metadata": {},
   "outputs": [
    {
     "name": "stdout",
     "output_type": "stream",
     "text": [
      "30.0\n"
     ]
    }
   ],
   "source": [
    "l = int(input(\"Length of base: \"))\n",
    "h = int(input(\"Height of parallelogram: \"))\n",
    "area = float(l * h)\n",
    "print(area)"
   ]
  }
 ],
 "metadata": {
  "kernelspec": {
   "display_name": "Python 3",
   "language": "python",
   "name": "python3"
  },
  "language_info": {
   "codemirror_mode": {
    "name": "ipython",
    "version": 3
   },
   "file_extension": ".py",
   "mimetype": "text/x-python",
   "name": "python",
   "nbconvert_exporter": "python",
   "pygments_lexer": "ipython3",
   "version": "3.11.1"
  },
  "orig_nbformat": 4,
  "vscode": {
   "interpreter": {
    "hash": "bbd74ad6daba26ba05f615fbb11bcaa0ca4fcd684416f84e7c4c8d29712895dc"
   }
  }
 },
 "nbformat": 4,
 "nbformat_minor": 2
}
