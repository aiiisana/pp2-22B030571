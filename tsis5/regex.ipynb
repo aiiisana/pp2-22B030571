{
 "cells": [
  {
   "cell_type": "code",
   "execution_count": 91,
   "metadata": {},
   "outputs": [
    {
     "name": "stdout",
     "output_type": "stream",
     "text": [
      "ab\n",
      "<re.Match object; span=(0, 2), match='ab'>\n"
     ]
    }
   ],
   "source": [
    "#1\n",
    "#Write a Python program that matches a string that has an 'a' followed by zero or more 'b''s.\n",
    "import re\n",
    "\n",
    "x = input()\n",
    "print(x)\n",
    "print(re.search('a(b*)', x))"
   ]
  },
  {
   "cell_type": "code",
   "execution_count": 48,
   "metadata": {},
   "outputs": [
    {
     "name": "stdout",
     "output_type": "stream",
     "text": [
      "sadjbsadmnbadadhaabbasdhs\n",
      "<re.Match object; span=(17, 20), match='abb'>\n"
     ]
    }
   ],
   "source": [
    "#2\n",
    "#Write a Python program that matches a string that has an 'a' followed by two to three 'b'.\n",
    "import re\n",
    "x = input()\n",
    "a = re.search('ab{2,3}', x)\n",
    "print(x)\n",
    "print(a)"
   ]
  },
  {
   "cell_type": "code",
   "execution_count": 77,
   "metadata": {},
   "outputs": [
    {
     "name": "stdout",
     "output_type": "stream",
     "text": [
      "sdkjds_sd\n",
      "Hooray! We have a match!!!\n"
     ]
    }
   ],
   "source": [
    "#3\n",
    "#Write a Python program to find sequences of lowercase letters joined with a underscore.\n",
    "import re \n",
    "\n",
    "def match(text):\n",
    "    patterns = '^[a-z]+_[a-z]+$'\n",
    "    return re.search(patterns, text)\n",
    "x = input()\n",
    "print(x)\n",
    "if match(x):\n",
    "    print('Hooray! We have a match!!!')\n",
    "else:\n",
    "    print('D:\\nnot a match(')\n"
   ]
  },
  {
   "cell_type": "code",
   "execution_count": 12,
   "metadata": {},
   "outputs": [
    {
     "name": "stdout",
     "output_type": "stream",
     "text": [
      "jgfjvSDSghjg\n",
      "<re.Match object; span=(7, 12), match='Sghjg'>\n"
     ]
    }
   ],
   "source": [
    "#4\n",
    "#Write a Python program to find the sequences of one upper case letter followed by lower case letters.\n",
    "import re\n",
    "\n",
    "def match(text):\n",
    "    patterns = '([A-Z]){1}[a-z]+$'\n",
    "    return re.search(patterns, text)\n",
    "x = input()\n",
    "print(x)\n",
    "print(match(x))"
   ]
  },
  {
   "cell_type": "code",
   "execution_count": 90,
   "metadata": {},
   "outputs": [
    {
     "name": "stdout",
     "output_type": "stream",
     "text": [
      "gjghcfxfafdb\n",
      "<re.Match object; span=(8, 12), match='afdb'>\n"
     ]
    }
   ],
   "source": [
    "#5\n",
    "#Write a Python program that matches a string that has an 'a' followed by anything, ending in 'b'.\n",
    "import re\n",
    "\n",
    "def match(text):\n",
    "    patterns = 'a.*b$'\n",
    "    return re.search(patterns, text)\n",
    "x = input()\n",
    "print(x)\n",
    "print(match(x))"
   ]
  },
  {
   "cell_type": "code",
   "execution_count": 92,
   "metadata": {},
   "outputs": [
    {
     "name": "stdout",
     "output_type": "stream",
     "text": [
      "hjghj.hfv,fyf hvjg ,hcf\n",
      "hjghj:hfv:fyf:hvjg::hcf\n"
     ]
    }
   ],
   "source": [
    "#6\n",
    "#Write a Python program to replace all occurrences of space, comma, or dot with a colon.\n",
    "import re\n",
    "\n",
    "x = input()\n",
    "a = re.sub('\\s', ':', x)\n",
    "b = re.sub('[,]', ':', a)\n",
    "c = re.sub('[.]', ':', b)\n",
    "print(x)\n",
    "print(c)"
   ]
  },
  {
   "cell_type": "code",
   "execution_count": 93,
   "metadata": {},
   "outputs": [
    {
     "name": "stdout",
     "output_type": "stream",
     "text": [
      "gfhk_jg_jg\n",
      "GfhkJgJg\n"
     ]
    }
   ],
   "source": [
    "#7\n",
    "#Write a python program to convert snake case string to camel case string.\n",
    "import re\n",
    "a = input()\n",
    "print(a)\n",
    "print(''.join(x.capitalize() for x in a.split('_')))"
   ]
  },
  {
   "cell_type": "code",
   "execution_count": 82,
   "metadata": {},
   "outputs": [
    {
     "name": "stdout",
     "output_type": "stream",
     "text": [
      "AAaaAAaAa\n",
      "['A', 'Aaa', 'A', 'Aa', 'Aa']\n"
     ]
    }
   ],
   "source": [
    "#8\n",
    "#Write a Python program to split a string at uppercase letters.\n",
    "import re\n",
    "\n",
    "txt = input()\n",
    "x = re.findall(\"[A-Z][^A-Z]*\", txt)\n",
    "print(txt)\n",
    "print(x)"
   ]
  },
  {
   "cell_type": "code",
   "execution_count": 81,
   "metadata": {},
   "outputs": [
    {
     "name": "stdout",
     "output_type": "stream",
     "text": [
      "AaAaAa\n",
      "Aa Aa Aa\n"
     ]
    }
   ],
   "source": [
    "#9\n",
    "#Write a Python program to insert spaces between words starting with capital letters.\n",
    "import re\n",
    "\n",
    "txt = input()\n",
    "x = re.sub(r\"(\\w)([A-Z])\", r\"\\1 \\2\", txt)\n",
    "print(txt)\n",
    "print(x)"
   ]
  },
  {
   "cell_type": "code",
   "execution_count": 7,
   "metadata": {},
   "outputs": [
    {
     "name": "stdout",
     "output_type": "stream",
     "text": [
      "camelCase\n",
      "camel_case\n"
     ]
    }
   ],
   "source": [
    "#10\n",
    "#Write a Python program to convert a given camel case string to snake case.\n",
    "import re\n",
    "\n",
    "txt = input()\n",
    "print(txt)\n",
    "print(re.sub(r\"(.)([A-Z][a-z]+)\", r\"\\1_\\2\", txt).lower())"
   ]
  }
 ],
 "metadata": {
  "kernelspec": {
   "display_name": "Python 3",
   "language": "python",
   "name": "python3"
  },
  "language_info": {
   "codemirror_mode": {
    "name": "ipython",
    "version": 3
   },
   "file_extension": ".py",
   "mimetype": "text/x-python",
   "name": "python",
   "nbconvert_exporter": "python",
   "pygments_lexer": "ipython3",
   "version": "3.11.1"
  },
  "orig_nbformat": 4,
  "vscode": {
   "interpreter": {
    "hash": "bbd74ad6daba26ba05f615fbb11bcaa0ca4fcd684416f84e7c4c8d29712895dc"
   }
  }
 },
 "nbformat": 4,
 "nbformat_minor": 2
}
