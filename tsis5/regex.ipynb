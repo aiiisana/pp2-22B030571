{
 "cells": [
  {
   "cell_type": "code",
   "execution_count": 31,
   "metadata": {},
   "outputs": [
    {
     "name": "stdout",
     "output_type": "stream",
     "text": [
      "kufhsedkab\n"
     ]
    },
    {
     "ename": "error",
     "evalue": "nothing to repeat at position 0",
     "output_type": "error",
     "traceback": [
      "\u001b[1;31m---------------------------------------------------------------------------\u001b[0m",
      "\u001b[1;31merror\u001b[0m                                     Traceback (most recent call last)",
      "Cell \u001b[1;32mIn[31], line 7\u001b[0m\n\u001b[0;32m      5\u001b[0m x \u001b[39m=\u001b[39m \u001b[39minput\u001b[39m()\n\u001b[0;32m      6\u001b[0m \u001b[39mprint\u001b[39m(x)\n\u001b[1;32m----> 7\u001b[0m \u001b[39mprint\u001b[39m(re\u001b[39m.\u001b[39;49msearch(\u001b[39m'\u001b[39;49m\u001b[39m?:(a.*b)\u001b[39;49m\u001b[39m'\u001b[39;49m, x))\n",
      "File \u001b[1;32mc:\\Users\\aisan\\AppData\\Local\\Programs\\Python\\Python310\\lib\\re.py:200\u001b[0m, in \u001b[0;36msearch\u001b[1;34m(pattern, string, flags)\u001b[0m\n\u001b[0;32m    197\u001b[0m \u001b[39mdef\u001b[39;00m \u001b[39msearch\u001b[39m(pattern, string, flags\u001b[39m=\u001b[39m\u001b[39m0\u001b[39m):\n\u001b[0;32m    198\u001b[0m \u001b[39m    \u001b[39m\u001b[39m\"\"\"Scan through string looking for a match to the pattern, returning\u001b[39;00m\n\u001b[0;32m    199\u001b[0m \u001b[39m    a Match object, or None if no match was found.\"\"\"\u001b[39;00m\n\u001b[1;32m--> 200\u001b[0m     \u001b[39mreturn\u001b[39;00m _compile(pattern, flags)\u001b[39m.\u001b[39msearch(string)\n",
      "File \u001b[1;32mc:\\Users\\aisan\\AppData\\Local\\Programs\\Python\\Python310\\lib\\re.py:303\u001b[0m, in \u001b[0;36m_compile\u001b[1;34m(pattern, flags)\u001b[0m\n\u001b[0;32m    301\u001b[0m \u001b[39mif\u001b[39;00m \u001b[39mnot\u001b[39;00m sre_compile\u001b[39m.\u001b[39misstring(pattern):\n\u001b[0;32m    302\u001b[0m     \u001b[39mraise\u001b[39;00m \u001b[39mTypeError\u001b[39;00m(\u001b[39m\"\u001b[39m\u001b[39mfirst argument must be string or compiled pattern\u001b[39m\u001b[39m\"\u001b[39m)\n\u001b[1;32m--> 303\u001b[0m p \u001b[39m=\u001b[39m sre_compile\u001b[39m.\u001b[39;49mcompile(pattern, flags)\n\u001b[0;32m    304\u001b[0m \u001b[39mif\u001b[39;00m \u001b[39mnot\u001b[39;00m (flags \u001b[39m&\u001b[39m DEBUG):\n\u001b[0;32m    305\u001b[0m     \u001b[39mif\u001b[39;00m \u001b[39mlen\u001b[39m(_cache) \u001b[39m>\u001b[39m\u001b[39m=\u001b[39m _MAXCACHE:\n\u001b[0;32m    306\u001b[0m         \u001b[39m# Drop the oldest item\u001b[39;00m\n",
      "File \u001b[1;32mc:\\Users\\aisan\\AppData\\Local\\Programs\\Python\\Python310\\lib\\sre_compile.py:788\u001b[0m, in \u001b[0;36mcompile\u001b[1;34m(p, flags)\u001b[0m\n\u001b[0;32m    786\u001b[0m \u001b[39mif\u001b[39;00m isstring(p):\n\u001b[0;32m    787\u001b[0m     pattern \u001b[39m=\u001b[39m p\n\u001b[1;32m--> 788\u001b[0m     p \u001b[39m=\u001b[39m sre_parse\u001b[39m.\u001b[39;49mparse(p, flags)\n\u001b[0;32m    789\u001b[0m \u001b[39melse\u001b[39;00m:\n\u001b[0;32m    790\u001b[0m     pattern \u001b[39m=\u001b[39m \u001b[39mNone\u001b[39;00m\n",
      "File \u001b[1;32mc:\\Users\\aisan\\AppData\\Local\\Programs\\Python\\Python310\\lib\\sre_parse.py:955\u001b[0m, in \u001b[0;36mparse\u001b[1;34m(str, flags, state)\u001b[0m\n\u001b[0;32m    952\u001b[0m state\u001b[39m.\u001b[39mstr \u001b[39m=\u001b[39m \u001b[39mstr\u001b[39m\n\u001b[0;32m    954\u001b[0m \u001b[39mtry\u001b[39;00m:\n\u001b[1;32m--> 955\u001b[0m     p \u001b[39m=\u001b[39m _parse_sub(source, state, flags \u001b[39m&\u001b[39;49m SRE_FLAG_VERBOSE, \u001b[39m0\u001b[39;49m)\n\u001b[0;32m    956\u001b[0m \u001b[39mexcept\u001b[39;00m Verbose:\n\u001b[0;32m    957\u001b[0m     \u001b[39m# the VERBOSE flag was switched on inside the pattern.  to be\u001b[39;00m\n\u001b[0;32m    958\u001b[0m     \u001b[39m# on the safe side, we'll parse the whole thing again...\u001b[39;00m\n\u001b[0;32m    959\u001b[0m     state \u001b[39m=\u001b[39m State()\n",
      "File \u001b[1;32mc:\\Users\\aisan\\AppData\\Local\\Programs\\Python\\Python310\\lib\\sre_parse.py:444\u001b[0m, in \u001b[0;36m_parse_sub\u001b[1;34m(source, state, verbose, nested)\u001b[0m\n\u001b[0;32m    442\u001b[0m start \u001b[39m=\u001b[39m source\u001b[39m.\u001b[39mtell()\n\u001b[0;32m    443\u001b[0m \u001b[39mwhile\u001b[39;00m \u001b[39mTrue\u001b[39;00m:\n\u001b[1;32m--> 444\u001b[0m     itemsappend(_parse(source, state, verbose, nested \u001b[39m+\u001b[39;49m \u001b[39m1\u001b[39;49m,\n\u001b[0;32m    445\u001b[0m                        \u001b[39mnot\u001b[39;49;00m nested \u001b[39mand\u001b[39;49;00m \u001b[39mnot\u001b[39;49;00m items))\n\u001b[0;32m    446\u001b[0m     \u001b[39mif\u001b[39;00m \u001b[39mnot\u001b[39;00m sourcematch(\u001b[39m\"\u001b[39m\u001b[39m|\u001b[39m\u001b[39m\"\u001b[39m):\n\u001b[0;32m    447\u001b[0m         \u001b[39mbreak\u001b[39;00m\n",
      "File \u001b[1;32mc:\\Users\\aisan\\AppData\\Local\\Programs\\Python\\Python310\\lib\\sre_parse.py:669\u001b[0m, in \u001b[0;36m_parse\u001b[1;34m(source, state, verbose, nested, first)\u001b[0m\n\u001b[0;32m    667\u001b[0m     item \u001b[39m=\u001b[39m \u001b[39mNone\u001b[39;00m\n\u001b[0;32m    668\u001b[0m \u001b[39mif\u001b[39;00m \u001b[39mnot\u001b[39;00m item \u001b[39mor\u001b[39;00m item[\u001b[39m0\u001b[39m][\u001b[39m0\u001b[39m] \u001b[39mis\u001b[39;00m AT:\n\u001b[1;32m--> 669\u001b[0m     \u001b[39mraise\u001b[39;00m source\u001b[39m.\u001b[39merror(\u001b[39m\"\u001b[39m\u001b[39mnothing to repeat\u001b[39m\u001b[39m\"\u001b[39m,\n\u001b[0;32m    670\u001b[0m                        source\u001b[39m.\u001b[39mtell() \u001b[39m-\u001b[39m here \u001b[39m+\u001b[39m \u001b[39mlen\u001b[39m(this))\n\u001b[0;32m    671\u001b[0m \u001b[39mif\u001b[39;00m item[\u001b[39m0\u001b[39m][\u001b[39m0\u001b[39m] \u001b[39min\u001b[39;00m _REPEATCODES:\n\u001b[0;32m    672\u001b[0m     \u001b[39mraise\u001b[39;00m source\u001b[39m.\u001b[39merror(\u001b[39m\"\u001b[39m\u001b[39mmultiple repeat\u001b[39m\u001b[39m\"\u001b[39m,\n\u001b[0;32m    673\u001b[0m                        source\u001b[39m.\u001b[39mtell() \u001b[39m-\u001b[39m here \u001b[39m+\u001b[39m \u001b[39mlen\u001b[39m(this))\n",
      "\u001b[1;31merror\u001b[0m: nothing to repeat at position 0"
     ]
    }
   ],
   "source": [
    "#1\n",
    "#Write a Python program that matches a string that has an 'a' followed by zero or more 'b''s.\n",
    "import re\n",
    "\n",
    "x = input()\n",
    "print(x)\n",
    "print(re.search('(?:a.*b)', x))"
   ]
  },
  {
   "cell_type": "code",
   "execution_count": 24,
   "metadata": {},
   "outputs": [
    {
     "name": "stdout",
     "output_type": "stream",
     "text": [
      "krgubecrdhnsnxabb\n",
      "<re.Match object; span=(14, 17), match='abb'>\n"
     ]
    }
   ],
   "source": [
    "#2\n",
    "#Write a Python program that matches a string that has an 'a' followed by two to three 'b'.\n",
    "import re\n",
    "x = input()\n",
    "a = re.search('ab{2,3}', x)\n",
    "print(x)\n",
    "print(a)"
   ]
  },
  {
   "cell_type": "code",
   "execution_count": 26,
   "metadata": {},
   "outputs": [
    {
     "name": "stdout",
     "output_type": "stream",
     "text": [
      "df j- jkfhc fd_df\n",
      "None\n"
     ]
    }
   ],
   "source": [
    "#3\n",
    "#Write a Python program to find sequences of lowercase letters joined with a underscore.\n",
    "import re \n",
    "\n",
    "def match(text):\n",
    "    patterns = '^[a-z]+_[a-z]+$'\n",
    "    if re.search(patterns, text):\n",
    "        return re.search(patterns, text)\n",
    "x = input()\n",
    "print(x)\n",
    "print(match(x))"
   ]
  },
  {
   "cell_type": "code",
   "execution_count": 17,
   "metadata": {},
   "outputs": [
    {
     "name": "stdout",
     "output_type": "stream",
     "text": [
      "<re.Match object; span=(5, 14), match='Ahgdhjwgf'>\n"
     ]
    }
   ],
   "source": [
    "#4\n",
    "#Write a Python program to find the sequences of one upper case letter followed by lower case letters.\n",
    "import re\n",
    "\n",
    "def match(text):\n",
    "    patterns = '[A-Z]+[a-z]+$'\n",
    "    if re.search(patterns, text):\n",
    "        return re.search(patterns, text)\n",
    "x = input()\n",
    "print(x)\n",
    "print(match(x))"
   ]
  },
  {
   "cell_type": "code",
   "execution_count": 66,
   "metadata": {},
   "outputs": [
    {
     "name": "stdout",
     "output_type": "stream",
     "text": [
      "<re.Match object; span=(7, 12), match='adhfb'>\n"
     ]
    }
   ],
   "source": [
    "#5\n",
    "#Write a Python program that matches a string that has an 'a' followed by anything, ending in 'b'.\n",
    "import re\n",
    "\n",
    "def match(text):\n",
    "    patterns = 'a.*b$'\n",
    "    if re.search(patterns, text):\n",
    "        return re.search(patterns, text)\n",
    "x = input()\n",
    "print(x)\n",
    "print(match(x))"
   ]
  },
  {
   "cell_type": "code",
   "execution_count": 69,
   "metadata": {},
   "outputs": [
    {
     "name": "stdout",
     "output_type": "stream",
     "text": [
      "sjhda::jfefwe:dsjkf:ds\n"
     ]
    }
   ],
   "source": [
    "#6\n",
    "#Write a Python program to replace all occurrences of space, comma, or dot with a colon.\n",
    "import re\n",
    "\n",
    "x = input()\n",
    "a = re.sub('\\s', ':', x)\n",
    "b = re.sub('[,]', ':', a)\n",
    "c = re.sub('[.]', ':', b)\n",
    "print(x)\n",
    "print(c)"
   ]
  },
  {
   "cell_type": "code",
   "execution_count": 10,
   "metadata": {},
   "outputs": [
    {
     "name": "stdout",
     "output_type": "stream",
     "text": [
      "HdfgdDfjks\n"
     ]
    }
   ],
   "source": [
    "#7\n",
    "#Write a python program to convert snake case string to camel case string.\n",
    "import re\n",
    "a = input()\n",
    "print(''.join(x.capitalize() or '_' for x in a.split('_')))"
   ]
  },
  {
   "cell_type": "code",
   "execution_count": 2,
   "metadata": {},
   "outputs": [
    {
     "name": "stdout",
     "output_type": "stream",
     "text": [
      "['Aa', 'Aa', 'A', 'A']\n"
     ]
    }
   ],
   "source": [
    "#8\n",
    "#Write a Python program to split a string at uppercase letters.\n",
    "import re\n",
    "\n",
    "txt = input()\n",
    "x = re.findall(\"[A-Z][^A-Z]*\", txt)\n",
    "print(txt)\n",
    "print(x)"
   ]
  },
  {
   "cell_type": "code",
   "execution_count": 15,
   "metadata": {},
   "outputs": [
    {
     "name": "stdout",
     "output_type": "stream",
     "text": [
      "Aa Aa Aa\n"
     ]
    }
   ],
   "source": [
    "#9\n",
    "#Write a Python program to insert spaces between words starting with capital letters.\n",
    "import re\n",
    "\n",
    "txt = input()\n",
    "x = re.sub(r\"(\\w)([A-Z])\", r\"\\1 \\2\", txt)\n",
    "print(x)\n",
    "print(x)"
   ]
  },
  {
   "cell_type": "code",
   "execution_count": 16,
   "metadata": {},
   "outputs": [
    {
     "name": "stdout",
     "output_type": "stream",
     "text": [
      "A__a\n"
     ]
    }
   ],
   "source": [
    "#10\n",
    "#Write a Python program to convert a given camel case string to snake case.\n",
    "a = input()\n",
    "print(x)\n",
    "print(re.sub(r\"(\\w)([A-Z])\", r\"_\", txt))"
   ]
  }
 ],
 "metadata": {
  "kernelspec": {
   "display_name": "Python 3",
   "language": "python",
   "name": "python3"
  },
  "language_info": {
   "codemirror_mode": {
    "name": "ipython",
    "version": 3
   },
   "file_extension": ".py",
   "mimetype": "text/x-python",
   "name": "python",
   "nbconvert_exporter": "python",
   "pygments_lexer": "ipython3",
   "version": "3.10.9"
  },
  "orig_nbformat": 4,
  "vscode": {
   "interpreter": {
    "hash": "4f7d9f99055ced365d25c4122c028ecd06913aa4ff9d4b291612d9cf1bd30867"
   }
  }
 },
 "nbformat": 4,
 "nbformat_minor": 2
}
