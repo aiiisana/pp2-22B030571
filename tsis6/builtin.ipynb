{
 "cells": [
  {
   "cell_type": "code",
   "execution_count": 19,
   "metadata": {},
   "outputs": [
    {
     "name": "stdout",
     "output_type": "stream",
     "text": [
      "[2, 3, 4, 2, 37563]\n",
      "1803024\n"
     ]
    }
   ],
   "source": [
    "import math\n",
    "\n",
    "x = list(map(int, input(\"Enter a list:\").split()))\n",
    "print(x)\n",
    "print(math.prod(x))"
   ]
  },
  {
   "cell_type": "code",
   "execution_count": 2,
   "metadata": {},
   "outputs": [
    {
     "name": "stdout",
     "output_type": "stream",
     "text": [
      "Upper count: 3\n",
      "Lower count: 2\n"
     ]
    }
   ],
   "source": [
    "a = input()\n",
    "q, w = 0, 0\n",
    "for x in a:\n",
    "    if x.isupper():\n",
    "        q+= 1\n",
    "    elif x.islower():\n",
    "        w +=1 \n",
    "print('Upper count:', q)\n",
    "print('Lower count:', w)"
   ]
  },
  {
   "cell_type": "code",
   "execution_count": null,
   "metadata": {},
   "outputs": [],
   "source": [
    "def pali(word):\n",
    "    if word == word[::-1]:\n",
    "        return True\n",
    "    else:\n",
    "        return False\n",
    "\n",
    "a = str(input())\n",
    "print(pali(a))"
   ]
  },
  {
   "cell_type": "code",
   "execution_count": 20,
   "metadata": {},
   "outputs": [
    {
     "name": "stdout",
     "output_type": "stream",
     "text": [
      "Square root of 25200 after 2123 miliseconds is 158.74507866387543\n"
     ]
    }
   ],
   "source": [
    "import time, math\n",
    "a = int(input(\"Root:\"))\n",
    "sec = int(input(\"Milliseconds:\"))\n",
    "root = math.sqrt(a)\n",
    "time.sleep(sec/1000)\n",
    "print('Square root of {} after {} miliseconds is {}'.format(a, sec, root))"
   ]
  },
  {
   "cell_type": "code",
   "execution_count": 18,
   "metadata": {},
   "outputs": [
    {
     "name": "stdout",
     "output_type": "stream",
     "text": [
      "True\n",
      "False\n"
     ]
    }
   ],
   "source": [
    "my_tuple1 = (True, True, True)\n",
    "my_tuple2 = (False, True, True)\n",
    "print(all(my_tuple1))\n",
    "print(all(my_tuple2))"
   ]
  }
 ],
 "metadata": {
  "kernelspec": {
   "display_name": "Python 3",
   "language": "python",
   "name": "python3"
  },
  "language_info": {
   "codemirror_mode": {
    "name": "ipython",
    "version": 3
   },
   "file_extension": ".py",
   "mimetype": "text/x-python",
   "name": "python",
   "nbconvert_exporter": "python",
   "pygments_lexer": "ipython3",
   "version": "3.11.1"
  },
  "orig_nbformat": 4,
  "vscode": {
   "interpreter": {
    "hash": "bbd74ad6daba26ba05f615fbb11bcaa0ca4fcd684416f84e7c4c8d29712895dc"
   }
  }
 },
 "nbformat": 4,
 "nbformat_minor": 2
}
