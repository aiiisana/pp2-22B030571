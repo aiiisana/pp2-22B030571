{
 "cells": [
  {
   "cell_type": "code",
   "execution_count": 28,
   "metadata": {},
   "outputs": [
    {
     "name": "stdout",
     "output_type": "stream",
     "text": [
      "Only directories:\n",
      "['.git', 'cloned_hello', 'githowto', 'hello', 'tsis1', 'tsis2', 'tsis3', 'tsis4', 'tsis5', 'tsis6']\n",
      "\n",
      "Only files:\n",
      "['README.md']\n",
      "\n",
      "All directories and files :\n",
      "['.git', 'cloned_hello', 'githowto', 'hello', 'README.md', 'tsis1', 'tsis2', 'tsis3', 'tsis4', 'tsis5', 'tsis6']\n"
     ]
    }
   ],
   "source": [
    "# 1\n",
    "import os\n",
    "path = input(\"Write a path\")\n",
    "print(\"Only directories:\")\n",
    "print([ name for name in os.listdir(path) if os.path.isdir(os.path.join(path, name)) ])\n",
    "print(\"\\nOnly files:\")\n",
    "print([ name for name in os.listdir(path) if not os.path.isdir(os.path.join(path, name)) ])\n",
    "print(\"\\nAll directories and files :\")\n",
    "print([ name for name in os.listdir(path)])"
   ]
  },
  {
   "cell_type": "code",
   "execution_count": 29,
   "metadata": {},
   "outputs": [
    {
     "name": "stdout",
     "output_type": "stream",
     "text": [
      "Exist: False\n",
      "Readable: False\n",
      "Writable: False\n",
      "Executable: False\n"
     ]
    }
   ],
   "source": [
    "# 2\n",
    "\n",
    "import os\n",
    "x = input(\"Path\")\n",
    "print('Exist:', os.access(x, os.F_OK))\n",
    "print('Readable:', os.access(x, os.R_OK))\n",
    "print('Writable:', os.access(x, os.W_OK))\n",
    "print('Executable:', os.access(x, os.X_OK))"
   ]
  },
  {
   "cell_type": "code",
   "execution_count": 31,
   "metadata": {},
   "outputs": [
    {
     "name": "stdout",
     "output_type": "stream",
     "text": [
      "Test a path exists or not:\n",
      "True\n",
      "\n",
      "File name of the path:\n",
      "dirandfiles.ipynb\n",
      "\n",
      "Dir name of the path:\n",
      "C:\\Users\\aisan\\OneDrive\\Рабочий стол\\pp2-22BD030571\\tsis6\n"
     ]
    }
   ],
   "source": [
    "# 3\n",
    "\n",
    "import os\n",
    "print(\"Test a path exists or not:\")\n",
    "path = input()\n",
    "print(os.path.exists(path))\n",
    "print(\"\\nFile name of the path:\")\n",
    "print(os.path.basename(path))\n",
    "print(\"\\nDir name of the path:\")\n",
    "print(os.path.dirname(path))"
   ]
  },
  {
   "cell_type": "code",
   "execution_count": 25,
   "metadata": {},
   "outputs": [
    {
     "name": "stdout",
     "output_type": "stream",
     "text": [
      "Total Lines: 6\n"
     ]
    }
   ],
   "source": [
    "# 4\n",
    "with open(\"row.txt\", 'r') as fp:\n",
    "    count = 0\n",
    "    for line in fp:\n",
    "        if line != \"\\n\":\n",
    "            count += 1\n",
    "print('Total Lines:', count)"
   ]
  },
  {
   "cell_type": "code",
   "execution_count": 6,
   "metadata": {},
   "outputs": [
    {
     "name": "stdout",
     "output_type": "stream",
     "text": [
      "a b c \n"
     ]
    }
   ],
   "source": [
    "# 5\n",
    "\n",
    "q =  list(input())\n",
    "with open('list.txt', 'w') as file:\n",
    "    for x in q:\n",
    "        file.write(x)\n",
    "\n",
    "f = open('list.txt')\n",
    "print(f.read())\n",
    "f.close()"
   ]
  },
  {
   "cell_type": "code",
   "execution_count": null,
   "metadata": {},
   "outputs": [],
   "source": [
    "# 6\n",
    "\n",
    "import string, os\n",
    "if not os.path.exists(\"letters\"):\n",
    "   os.makedirs(\"letters\")\n",
    "for letter in string.ascii_uppercase:\n",
    "   with open(letter + \".txt\", \"w\") as f:\n",
    "       f.writelines(letter)"
   ]
  },
  {
   "cell_type": "code",
   "execution_count": 24,
   "metadata": {},
   "outputs": [],
   "source": [
    "# 7\n",
    "\n",
    "with open(\"row.txt\", 'r') as f:\n",
    "    data = f.read()\n",
    " \n",
    "with open(\"copy.txt\", 'w') as f:\n",
    "    f.write(data)\n",
    " "
   ]
  },
  {
   "cell_type": "code",
   "execution_count": 10,
   "metadata": {},
   "outputs": [],
   "source": [
    "# 8\n",
    "import os\n",
    "x = input('File name')\n",
    "if os.path.exists(x):\n",
    "  os.remove(x)\n",
    "else:\n",
    "  print(\"The file does not exist\")"
   ]
  }
 ],
 "metadata": {
  "kernelspec": {
   "display_name": "Python 3",
   "language": "python",
   "name": "python3"
  },
  "language_info": {
   "codemirror_mode": {
    "name": "ipython",
    "version": 3
   },
   "file_extension": ".py",
   "mimetype": "text/x-python",
   "name": "python",
   "nbconvert_exporter": "python",
   "pygments_lexer": "ipython3",
   "version": "3.11.1"
  },
  "orig_nbformat": 4,
  "vscode": {
   "interpreter": {
    "hash": "bbd74ad6daba26ba05f615fbb11bcaa0ca4fcd684416f84e7c4c8d29712895dc"
   }
  }
 },
 "nbformat": 4,
 "nbformat_minor": 2
}
