{
 "cells": [
  {
   "cell_type": "code",
   "execution_count": 4,
   "metadata": {},
   "outputs": [
    {
     "name": "stdout",
     "output_type": "stream",
     "text": [
      "Action:"
     ]
    },
    {
     "ename": "ZeroDivisionError",
     "evalue": "division by zero",
     "output_type": "error",
     "traceback": [
      "\u001b[1;31m---------------------------------------------------------------------------\u001b[0m",
      "\u001b[1;31mZeroDivisionError\u001b[0m                         Traceback (most recent call last)",
      "Cell \u001b[1;32mIn[4], line 93\u001b[0m\n\u001b[0;32m     91\u001b[0m             \u001b[39mprint\u001b[39m(categor_1, averagescore)\n\u001b[0;32m     92\u001b[0m         \u001b[39mdel\u001b[39;00m scores\n\u001b[1;32m---> 93\u001b[0m categscore(movies)\n",
      "Cell \u001b[1;32mIn[4], line 90\u001b[0m, in \u001b[0;36mcategscore\u001b[1;34m(moovies)\u001b[0m\n\u001b[0;32m     88\u001b[0m         score \u001b[39m=\u001b[39m movie[\u001b[39m'\u001b[39m\u001b[39mimdb\u001b[39m\u001b[39m'\u001b[39m]\n\u001b[0;32m     89\u001b[0m         scores\u001b[39m.\u001b[39mappend(score)\n\u001b[1;32m---> 90\u001b[0m     averagescore \u001b[39m=\u001b[39m \u001b[39msum\u001b[39;49m(scores) \u001b[39m/\u001b[39;49m \u001b[39mlen\u001b[39;49m(scores)\n\u001b[0;32m     91\u001b[0m     \u001b[39mprint\u001b[39m(categor_1, averagescore)\n\u001b[0;32m     92\u001b[0m \u001b[39mdel\u001b[39;00m scores\n",
      "\u001b[1;31mZeroDivisionError\u001b[0m: division by zero"
     ]
    }
   ],
   "source": [
    "movies = [\n",
    "{\n",
    "\"name\": \"Usual Suspects\", \n",
    "\"imdb\": 7.0,\n",
    "\"category\": \"Thriller\"\n",
    "},\n",
    "{\n",
    "\"name\": \"Hitman\",\n",
    "\"imdb\": 6.3,\n",
    "\"category\": \"Action\"\n",
    "},\n",
    "{\n",
    "\"name\": \"Dark Knight\",\n",
    "\"imdb\": 9.0,\n",
    "\"category\": \"Adventure\"\n",
    "},\n",
    "{\n",
    "\"name\": \"The Help\",\n",
    "\"imdb\": 8.0,\n",
    "\"category\": \"Drama\"\n",
    "},\n",
    "{\n",
    "\"name\": \"The Choice\",\n",
    "\"imdb\": 6.2,\n",
    "\"category\": \"Romance\"\n",
    "},\n",
    "{\n",
    "\"name\": \"Colonia\",\n",
    "\"imdb\": 7.4,\n",
    "\"category\": \"Romance\"\n",
    "},\n",
    "{\n",
    "\"name\": \"Love\",\n",
    "\"imdb\": 6.0,\n",
    "\"category\": \"Romance\"\n",
    "},\n",
    "{\n",
    "\"name\": \"Bride Wars\",\n",
    "\"imdb\": 5.4,\n",
    "\"category\": \"Romance\"\n",
    "},\n",
    "{\n",
    "\"name\": \"AlphaJet\",\n",
    "\"imdb\": 3.2,\n",
    "\"category\": \"War\"\n",
    "},\n",
    "{\n",
    "\"name\": \"Ringing Crime\",\n",
    "\"imdb\": 4.0,\n",
    "\"category\": \"Crime\"\n",
    "},\n",
    "{\n",
    "\"name\": \"Joking muck\",\n",
    "\"imdb\": 7.2,\n",
    "\"category\": \"Comedy\"\n",
    "},\n",
    "{\n",
    "\"name\": \"What is the name\",\n",
    "\"imdb\": 9.2,\n",
    "\"category\": \"Suspense\"\n",
    "},\n",
    "{\n",
    "\"name\": \"Detective\",\n",
    "\"imdb\": 7.0,\n",
    "\"category\": \"Suspense\"\n",
    "},\n",
    "{\n",
    "\"name\": \"Exam\",\n",
    "\"imdb\": 4.2,\n",
    "\"category\": \"Thriller\"\n",
    "},\n",
    "{\n",
    "\"name\": \"We Two\",\n",
    "\"imdb\": 7.2,\n",
    "\"category\": \"Romance\"\n",
    "}\n",
    "]\n",
    "def categscore(moovies):\n",
    "    categor = set()\n",
    "    for movie in moovies:\n",
    "        string = movie['category']\n",
    "        categor.add(string)\n",
    "    for categor_1 in categor:\n",
    "        print(categor_1, end = ':')\n",
    "        scores = []\n",
    "        for movie in moovies:\n",
    "            if categor_1 == movie['category']:\n",
    "                score = movie['imdb']\n",
    "                scores.append(score)\n",
    "            averagescore = sum(scores) / len(scores)\n",
    "            print(categor_1, averagescore)\n",
    "        del scores\n",
    "categscore(movies)\n"
   ]
  },
  {
   "cell_type": "code",
   "execution_count": 15,
   "metadata": {},
   "outputs": [
    {
     "name": "stdout",
     "output_type": "stream",
     "text": [
      "Usual Suspects - True\n",
      "Hitman - True\n",
      "Dark Knight - True\n",
      "The Help - True\n",
      "The Choice - True\n",
      "Colonia - True\n",
      "Love - True\n",
      "Bride Wars - False\n",
      "AlphaJet - False\n",
      "Ringing Crime - False\n",
      "Joking muck - True\n",
      "What is the name - True\n",
      "Detective - True\n",
      "Exam - False\n",
      "We Two - True\n"
     ]
    }
   ],
   "source": [
    "def score(moviess):\n",
    "    for movie in moviess:\n",
    "        if movie['imdb'] > 5.5:\n",
    "            print(movie['name'], '-', bool(1))\n",
    "        else:\n",
    "            print(movie['name'], '-', bool())\n",
    "\n",
    "score(movies)"
   ]
  },
  {
   "cell_type": "code",
   "execution_count": null,
   "metadata": {},
   "outputs": [],
   "source": [
    "def highscore(moviees):\n",
    "    for movie in moviees:\n",
    "        if movie['imdb'] > 5.5:\n",
    "            print(movie, end = '\\n')\n",
    "\n",
    "highscore(movies)"
   ]
  },
  {
   "cell_type": "code",
   "execution_count": 3,
   "metadata": {},
   "outputs": [
    {
     "ename": "NameError",
     "evalue": "name 'movies' is not defined",
     "output_type": "error",
     "traceback": [
      "\u001b[1;31m---------------------------------------------------------------------------\u001b[0m",
      "\u001b[1;31mNameError\u001b[0m                                 Traceback (most recent call last)",
      "Cell \u001b[1;32mIn[3], line 12\u001b[0m\n\u001b[0;32m      9\u001b[0m             \u001b[39mif\u001b[39;00m categ_1 \u001b[39m==\u001b[39m movie[\u001b[39m'\u001b[39m\u001b[39mcategory\u001b[39m\u001b[39m'\u001b[39m]:\n\u001b[0;32m     10\u001b[0m                 \u001b[39mprint\u001b[39m(movie[\u001b[39m'\u001b[39m\u001b[39mname\u001b[39m\u001b[39m'\u001b[39m])\n\u001b[1;32m---> 12\u001b[0m categ(movies)\n",
      "\u001b[1;31mNameError\u001b[0m: name 'movies' is not defined"
     ]
    }
   ],
   "source": [
    "def categ(movvies):\n",
    "    cate = set()\n",
    "    for movie in movvies:\n",
    "        string = movie['category']\n",
    "        cate.add(string)\n",
    "    for categ_1 in cate:\n",
    "        print(categ_1, end = ':')\n",
    "        for movie in movvies:\n",
    "            if categ_1 == movie['category']:\n",
    "                print(movie['name'])\n",
    "\n",
    "categ(movies)"
   ]
  },
  {
   "cell_type": "code",
   "execution_count": null,
   "metadata": {},
   "outputs": [],
   "source": [
    "def average(movieee):\n",
    "    scores = []\n",
    "    for movie in movieee:\n",
    "        score = movie['imdb']\n",
    "        scores.append(score)\n",
    "    averagescore = sum(scores) / len(scores)\n",
    "    return averagescore\n",
    "\n",
    "print(average(movies))"
   ]
  },
  {
   "cell_type": "code",
   "execution_count": null,
   "metadata": {},
   "outputs": [],
   "source": [
    "def categscore(moovies):\n",
    "    categor = set()\n",
    "    for movie in moovies:\n",
    "        string = movie['category']\n",
    "        categor.add(string)\n",
    "    for categor_1 in categor:\n",
    "        print(categor_1, end = ':')\n",
    "        scores = []\n",
    "        for movie in moovies:\n",
    "            if categor_1 == movie['category']:\n",
    "                score = movie['imdb']\n",
    "                scores.append(score)\n",
    "            averagescore = sum(scores) / len(scores)\n",
    "            print(categor_1, averagescore)\n",
    "        del scores\n",
    "categscore(movies)"
   ]
  }
 ],
 "metadata": {
  "kernelspec": {
   "display_name": "Python 3",
   "language": "python",
   "name": "python3"
  },
  "language_info": {
   "codemirror_mode": {
    "name": "ipython",
    "version": 3
   },
   "file_extension": ".py",
   "mimetype": "text/x-python",
   "name": "python",
   "nbconvert_exporter": "python",
   "pygments_lexer": "ipython3",
   "version": "3.10.9"
  },
  "orig_nbformat": 4,
  "vscode": {
   "interpreter": {
    "hash": "4f7d9f99055ced365d25c4122c028ecd06913aa4ff9d4b291612d9cf1bd30867"
   }
  }
 },
 "nbformat": 4,
 "nbformat_minor": 2
}
