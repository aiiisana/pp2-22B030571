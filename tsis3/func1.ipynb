{
 "cells": [
  {
   "cell_type": "code",
   "execution_count": 2,
   "metadata": {},
   "outputs": [
    {
     "name": "stdout",
     "output_type": "stream",
     "text": [
      "You will need \n",
      "14316.5091655 ounces\n"
     ]
    }
   ],
   "source": [
    "def ounces(gramm):\n",
    "    ounce = 28.3495231 * gramm\n",
    "    return ounce\n",
    "a = int(input(\"Enter the grams for recipe: \"))\n",
    "print(\"You will need \")\n",
    "print(ounces(a), \"ounces\")"
   ]
  },
  {
   "cell_type": "code",
   "execution_count": 7,
   "metadata": {},
   "outputs": [
    {
     "name": "stdout",
     "output_type": "stream",
     "text": [
      "It is going to be 0.0 celcium\n"
     ]
    }
   ],
   "source": [
    "def celcium(fahrenheit):\n",
    "    temp = (5 / 9) * (fahrenheit - 32)\n",
    "    return temp\n",
    "a = int(input(\"Enter the temperature in Fahrenheit: \"))\n",
    "print(\"It is going to be\", celcium(a), \"degrees celcius\")"
   ]
  },
  {
   "cell_type": "code",
   "execution_count": 8,
   "metadata": {},
   "outputs": [
    {
     "name": "stdout",
     "output_type": "stream",
     "text": [
      "The number of rabbits is  12\n",
      "The number of chickens is  23\n"
     ]
    }
   ],
   "source": [
    "def animals(legs, heads):\n",
    "    rabbit = (legs - (heads * 2))/2\n",
    "    chicken = heads - rabbit\n",
    "    print(\"The number of rabbits is\", int(rabbit))\n",
    "    print(\"The number of chickens is\", int(chicken))\n",
    "a = int(input(\"Enter the number of legs: \"))\n",
    "b = int(input(\"Enter the number of heads: \"))\n",
    "animals(a, b)"
   ]
  },
  {
   "cell_type": "code",
   "execution_count": 37,
   "metadata": {},
   "outputs": [
    {
     "name": "stdout",
     "output_type": "stream",
     "text": [
      "{2, 3, 5, 7, 19}\n"
     ]
    }
   ],
   "source": [
    "def primes(lisst):\n",
    "    list2 = set()\n",
    "    u = 0\n",
    "    while u < len(lisst):\n",
    "        if (lisst[u] == 2) or (lisst[u] == 3):\n",
    "                list2.add(lisst[u])\n",
    "        for i in range(2, (int(lisst[u] / 2) + 1)):\n",
    "            if lisst[u] % i != 0:\n",
    "                list2.add(lisst[u])\n",
    "                continue\n",
    "            else:\n",
    "                break\n",
    "        u += 1\n",
    "    print(list2)\n",
    "\n",
    "q =  list(map(int, input('Enter the list values with spaces').split()))\n",
    "primes(q)"
   ]
  },
  {
   "cell_type": "code",
   "execution_count": 39,
   "metadata": {},
   "outputs": [
    {
     "name": "stdout",
     "output_type": "stream",
     "text": [
      "asd\n",
      "ads\n",
      "sad\n",
      "sda\n",
      "das\n",
      "dsa\n",
      "None\n"
     ]
    }
   ],
   "source": [
    "def perm(stroka, bykva = ''):\n",
    "    if len(stroka) == 0:\n",
    "        print(bykva)\n",
    "    for i in range(len(stroka)):\n",
    "        word = bykva + stroka[i]\n",
    "        novyistroka = stroka[0:i] + stroka[i + 1:]\n",
    "        perm(novyistroka, word)\n",
    "a = str(input())\n",
    "print(perm(a))"
   ]
  },
  {
   "cell_type": "code",
   "execution_count": 51,
   "metadata": {},
   "outputs": [
    {
     "name": "stdout",
     "output_type": "stream",
     "text": [
      "3 3 1\n"
     ]
    }
   ],
   "source": [
    "def rev(lisst):\n",
    "    sentlist = lisst.split()\n",
    "    reverlist = reversed(sentlist)\n",
    "    print(\" \".join(reverlist))\n",
    "\n",
    "a = str(input(\"Enter a random sentence: \"))\n",
    "rev(a)"
   ]
  },
  {
   "cell_type": "code",
   "execution_count": 53,
   "metadata": {},
   "outputs": [
    {
     "name": "stdout",
     "output_type": "stream",
     "text": [
      "True\n"
     ]
    }
   ],
   "source": [
    "def has_33(lisst):\n",
    "    q = 0\n",
    "    for i in range(len(lisst) - 1):\n",
    "        if (lisst[i] == 3) and (lisst[i+1] == 3):\n",
    "            q = 1\n",
    "            break\n",
    "    if q == 1:\n",
    "        print(bool(1))\n",
    "    else:\n",
    "        print(bool(\"\"))\n",
    "a = list(map(int, input('Enter the list values with spaces').split()))\n",
    "has_33(a)"
   ]
  },
  {
   "cell_type": "code",
   "execution_count": 76,
   "metadata": {},
   "outputs": [
    {
     "name": "stdout",
     "output_type": "stream",
     "text": [
      "[1, 3, 5]\n",
      "[1, 3, 5]\n",
      "True\n"
     ]
    }
   ],
   "source": [
    "def spy(lisst):\n",
    "    srav = list()\n",
    "    for i in range(len(lisst)):\n",
    "        if lisst[i] == 7:\n",
    "            srav.append(i)\n",
    "            break\n",
    "        elif lisst[i] == 0:\n",
    "            srav.append(i)\n",
    "    srav2 = srav.copy()\n",
    "    srav2.sort()\n",
    "    if srav2 == srav and len(srav) == 3:\n",
    "        print(bool(1))\n",
    "    else:\n",
    "        print(bool(\"\"))\n",
    "\n",
    "a = list(map(int, input('Enter the list values with spaces').split()))\n",
    "spy(a)"
   ]
  },
  {
   "cell_type": "code",
   "execution_count": 77,
   "metadata": {},
   "outputs": [
    {
     "name": "stdout",
     "output_type": "stream",
     "text": [
      "Enter the radius of the sphere:\n",
      "Full area of sphere =  803.84\n"
     ]
    }
   ],
   "source": [
    "def arrea(rr):\n",
    "    areasp = 4 * 3.14 * rr * rr\n",
    "    print(\"Full area of sphere = \", areasp)\n",
    "\n",
    "print('Enter the radius of the sphere:')\n",
    "r = int(input())\n",
    "arrea(r)"
   ]
  },
  {
   "cell_type": "code",
   "execution_count": 78,
   "metadata": {},
   "outputs": [
    {
     "name": "stdout",
     "output_type": "stream",
     "text": [
      "Unique list: [1, 2, 3, 4]\n"
     ]
    }
   ],
   "source": [
    "def unique_list(numbers):\n",
    "    unique = []\n",
    "    for item in numbers :\n",
    "        if item not in unique:\n",
    "            unique.append(item)\n",
    "    return unique\n",
    "\n",
    "a = list(map(int, input('Enter the list values with spaces').split()))\n",
    "print(\"Unique list:\", unique_list(a))"
   ]
  },
  {
   "cell_type": "code",
   "execution_count": null,
   "metadata": {},
   "outputs": [
    {
     "name": "stdout",
     "output_type": "stream",
     "text": [
      "True\n"
     ]
    }
   ],
   "source": [
    "def pali(word):\n",
    "    if word == word[::-1]:\n",
    "        return True\n",
    "    else:\n",
    "        return False\n",
    "\n",
    "a = str(input())\n",
    "print(pali(a))"
   ]
  },
  {
   "cell_type": "code",
   "execution_count": 95,
   "metadata": {},
   "outputs": [
    {
     "name": "stdout",
     "output_type": "stream",
     "text": [
      "*\n",
      "**\n",
      "***\n",
      "None\n"
     ]
    }
   ],
   "source": [
    "def histogram(lisst):\n",
    "    i = 0\n",
    "    while i < len(lisst):\n",
    "        for x in lisst:\n",
    "            print('*' * lisst[i])\n",
    "            break\n",
    "        i += 1\n",
    "\n",
    "a = list(map(int, input('Enter the list values with spaces').split()))\n",
    "print(histogram(a))\n"
   ]
  },
  {
   "cell_type": "code",
   "execution_count": 104,
   "metadata": {},
   "outputs": [
    {
     "name": "stdout",
     "output_type": "stream",
     "text": [
      "Well, a, I am thinking of a number between 1 and 20.\n",
      "Your guess is too low.\n"
     ]
    },
    {
     "ename": "TypeError",
     "evalue": "'int' object is not callable",
     "output_type": "error",
     "traceback": [
      "\u001b[1;31m---------------------------------------------------------------------------\u001b[0m",
      "\u001b[1;31mTypeError\u001b[0m                                 Traceback (most recent call last)",
      "Cell \u001b[1;32mIn[104], line 15\u001b[0m\n\u001b[0;32m     13\u001b[0m     \u001b[39melif\u001b[39;00m \u001b[39minput\u001b[39m \u001b[39m>\u001b[39m secret:\n\u001b[0;32m     14\u001b[0m         \u001b[39mprint\u001b[39m (\u001b[39m\"\u001b[39m\u001b[39mYour guess is too high.\u001b[39m\u001b[39m\"\u001b[39m)\n\u001b[1;32m---> 15\u001b[0m     \u001b[39minput\u001b[39m \u001b[39m==\u001b[39m \u001b[39mint\u001b[39m(\u001b[39minput\u001b[39;49m(\u001b[39m\"\u001b[39;49m\u001b[39mTake a guess.\u001b[39;49m\u001b[39m\\n\u001b[39;49;00m\u001b[39m\"\u001b[39;49m))\n\u001b[0;32m     16\u001b[0m     count \u001b[39m+\u001b[39m\u001b[39m=\u001b[39m \u001b[39m1\u001b[39m\n\u001b[0;32m     18\u001b[0m \u001b[39mprint\u001b[39m (\u001b[39m\"\u001b[39m\u001b[39mGood job, \u001b[39m\u001b[39m%s\u001b[39;00m\u001b[39m! You guessed my number in \u001b[39m\u001b[39m%d\u001b[39;00m\u001b[39m guesses!\u001b[39m\u001b[39m\"\u001b[39m \u001b[39m%\u001b[39m (name, count))\n",
      "\u001b[1;31mTypeError\u001b[0m: 'int' object is not callable"
     ]
    }
   ],
   "source": [
    "import random\n",
    "\n",
    "print(\"Hello! What is your name?\")\n",
    "a = str(input())\n",
    "qw = int(random.randint(1, 20))\n",
    "q = 1\n",
    "print('Well, %s, I am thinking of a number between 1 and 20.' % a)\n",
    "print(\"Take a guess.\")\n",
    "num = int(input())\n",
    "while num != qw:\n",
    "    if (num > qw):\n",
    "        print(\"Your guess is too high.\")\n",
    "        print(\"Take a guess.\")\n",
    "        q += 1\n",
    "    elif num < qw:\n",
    "        print(\"Your guess is too low.\")\n",
    "        print(\"Take a guess.\")\n",
    "        q += 1\n",
    "    num = int(input())\n",
    "\n",
    "print('Good job, %s! You guessed my number in %s guesses!' %(a, q))"
   ]
  }
 ],
 "metadata": {
  "kernelspec": {
   "display_name": "Python 3",
   "language": "python",
   "name": "python3"
  },
  "language_info": {
   "codemirror_mode": {
    "name": "ipython",
    "version": 3
   },
   "file_extension": ".py",
   "mimetype": "text/x-python",
   "name": "python",
   "nbconvert_exporter": "python",
   "pygments_lexer": "ipython3",
   "version": "3.10.9"
  },
  "orig_nbformat": 4,
  "vscode": {
   "interpreter": {
    "hash": "4f7d9f99055ced365d25c4122c028ecd06913aa4ff9d4b291612d9cf1bd30867"
   }
  }
 },
 "nbformat": 4,
 "nbformat_minor": 2
}
