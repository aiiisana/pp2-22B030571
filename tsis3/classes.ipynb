{
 "cells": [
  {
   "cell_type": "code",
   "execution_count": 1,
   "metadata": {},
   "outputs": [
    {
     "name": "stdout",
     "output_type": "stream",
     "text": [
      "16\n"
     ]
    }
   ],
   "source": [
    "class shape():\n",
    "    def __init__ (self, length):\n",
    "        self.length = length\n",
    "class square(shape):\n",
    "    def area(self):\n",
    "        return (self.length ** 2)\n",
    "        \n",
    "a = square(int(input(\"введите сторону:\")))\n",
    "print(square.area(a))"
   ]
  },
  {
   "cell_type": "code",
   "execution_count": null,
   "metadata": {},
   "outputs": [],
   "source": [
    "class string:\n",
    "    def __init__ (self, string):\n",
    "        self.string = string\n",
    "\n",
    "    def getString(self):\n",
    "        print(self.string)\n",
    "\n",
    "    def printString(self):\n",
    "        print(self.string.upper())\n",
    "\n",
    "\n",
    "s = string(input())\n",
    "s.getString()\n",
    "s.printString()"
   ]
  },
  {
   "cell_type": "code",
   "execution_count": null,
   "metadata": {},
   "outputs": [],
   "source": [
    "class shape():\n",
    "    def __init__ (self, length, width):\n",
    "        self.length = length\n",
    "        self.width = width\n",
    "class rectangle(shape):\n",
    "    def area(self):\n",
    "        return (self.length * self.width)\n",
    "        \n",
    "a = rectangle(int(input(\"введите сторону 1:\")), int(input(\"введите сторону 2:\")))\n",
    "print(rectangle.area(a))"
   ]
  },
  {
   "cell_type": "code",
   "execution_count": null,
   "metadata": {},
   "outputs": [],
   "source": [
    "import math\n",
    "class Point:\n",
    "    def __init__(self, x, y):\n",
    "        self.x = x\n",
    "        self.y = y\n",
    "    def move(self, z , z1):\n",
    "        self.x = self.x + z\n",
    "        self.y = self.y + z1\n",
    "    def __str__(self):\n",
    "        return f\"({self.x};{self.y})\"\n",
    "    def dic(self, x , y):\n",
    "        z = self.x - x\n",
    "        z1 = self.y - y\n",
    "        print((math.sqrt((z)**2 + (z1)**2)))\n",
    "print(\"Coordinates of first point\")\n",
    "x1 = int(input())\n",
    "y1 = int(input())\n",
    "print(\"x =\" , x1 , \"y =\" , y1)\n",
    "print(\"Coordinates of second point\")\n",
    "x2 = int(input())\n",
    "y2 = int(input())\n",
    "print(\"x = \" , x2 , \"y = \" , y2)\n",
    "p1 = Point(x1 , y1)\n",
    "p2 = Point(x2,y2)\n",
    "print(\"Distance between the first and second points:\")\n",
    "p1.dic(x2 , y2)\n",
    "print(\"Moving along X at the first point\")\n",
    "movep1x = int(input())\n",
    "print(\"Moving along Y at the first point\")\n",
    "movep1y = int(input())\n",
    "print(\"Moving along X at the second point\")\n",
    "movep2x = int(input())\n",
    "print(\"Moving along Y at the second point\")\n",
    "movep2y = int(input())\n",
    "p1.move(movep1x,movep1y)\n",
    "p2.move(movep2x,movep2y)\n",
    "print(\"First point coordinates\")\n",
    "print(p1)\n",
    "print(\"Second point coordinates\")\n",
    "print(p2)"
   ]
  },
  {
   "cell_type": "code",
   "execution_count": null,
   "metadata": {},
   "outputs": [],
   "source": [
    "class Account:\n",
    "    def __init__(self, owner, balance = 0):\n",
    "        self.o = owner\n",
    "        self.b = balance\n",
    "    def __str__(self):\n",
    "        return (\"Account owner: {} \\nAccount balance: {}\").format(self.o, self.b )\n",
    "    def deposit(self, deposit):\n",
    "        self.b = self.b + deposit\n",
    "        print(\"+ {} \\nYour current balance is {} tenge.\".format(deposit,self.b))\n",
    "    def withdraw(self, w):\n",
    "            if w > self.b:\n",
    "                print(\"Error, insufficient funds \\nYour current balance is {}\".format(self.b))\n",
    "            else:\n",
    "                self.b = self.b - w\n",
    "                print(\"Withdrawal Accepted \\nYour current balance is {}\".format(self.b))\n",
    "a = str(input(\"Give your account a name: \\n\"))\n",
    "p = Account(a)\n",
    "print(p)\n",
    "ans = input(\"What would you like to do with your account?\\nIf nothing, write \\'No\\'\\n\")\n",
    "while ans != 'No':\n",
    "    if ans == 'Deposit':\n",
    "        q = int(input())\n",
    "        p.deposit(q)\n",
    "    elif ans == 'Withdraw':\n",
    "        x = int(input())\n",
    "        p.withdraw(x)\n",
    "    ans = input(\"Do you want to continue operations?\\nIf so, then write the operation or you can write \\'No\\'.\\n\")\n",
    "        \n",
    "print('Have a good day!')"
   ]
  },
  {
   "cell_type": "code",
   "execution_count": 7,
   "metadata": {},
   "outputs": [
    {
     "name": "stdout",
     "output_type": "stream",
     "text": [
      "[2, 3, 2, 3, 2, 2, 5, 7]\n"
     ]
    }
   ],
   "source": [
    "import math\n",
    "\n",
    "\n",
    "def primes(num):\n",
    "    for i in range(2, int(math.sqrt(num)) + 1):\n",
    "        if num % i == 0:\n",
    "            return False\n",
    "    return num > 1\n",
    "\n",
    "\n",
    "\n",
    "a = list(map(int, input(\"Enter the list values with spaces:\").split()))\n",
    "res = list(filter(lambda x: (primes(x) == True), a))\n",
    "print(res)"
   ]
  }
 ],
 "metadata": {
  "kernelspec": {
   "display_name": "Python 3",
   "language": "python",
   "name": "python3"
  },
  "language_info": {
   "codemirror_mode": {
    "name": "ipython",
    "version": 3
   },
   "file_extension": ".py",
   "mimetype": "text/x-python",
   "name": "python",
   "nbconvert_exporter": "python",
   "pygments_lexer": "ipython3",
   "version": "3.10.9"
  },
  "orig_nbformat": 4,
  "vscode": {
   "interpreter": {
    "hash": "4f7d9f99055ced365d25c4122c028ecd06913aa4ff9d4b291612d9cf1bd30867"
   }
  }
 },
 "nbformat": 4,
 "nbformat_minor": 2
}
